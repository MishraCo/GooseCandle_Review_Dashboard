{
  "nbformat": 4,
  "nbformat_minor": 0,
  "metadata": {
    "colab": {
      "provenance": []
    },
    "kernelspec": {
      "name": "python3",
      "display_name": "Python 3"
    },
    "language_info": {
      "name": "python"
    }
  },
  "cells": [
    {
      "cell_type": "markdown",
      "source": [
        "# Transformation of Dataset(Goosecreek) Using Pyspark"
      ],
      "metadata": {
        "id": "lj_6SueQd9bU"
      }
    },
    {
      "cell_type": "code",
      "source": [
        "!pip install pyspark"
      ],
      "metadata": {
        "colab": {
          "base_uri": "https://localhost:8080/"
        },
        "id": "mjxVFxockywG",
        "outputId": "7cdbab09-ec47-48c4-eaa7-8eadfc72d5d8"
      },
      "execution_count": 3,
      "outputs": [
        {
          "output_type": "stream",
          "name": "stdout",
          "text": [
            "Collecting pyspark\n",
            "  Downloading pyspark-3.5.1.tar.gz (317.0 MB)\n",
            "\u001b[2K     \u001b[90m━━━━━━━━━━━━━━━━━━━━━━━━━━━━━━━━━━━━━━━━\u001b[0m \u001b[32m317.0/317.0 MB\u001b[0m \u001b[31m3.9 MB/s\u001b[0m eta \u001b[36m0:00:00\u001b[0m\n",
            "\u001b[?25h  Preparing metadata (setup.py) ... \u001b[?25l\u001b[?25hdone\n",
            "Requirement already satisfied: py4j==0.10.9.7 in /usr/local/lib/python3.10/dist-packages (from pyspark) (0.10.9.7)\n",
            "Building wheels for collected packages: pyspark\n",
            "  Building wheel for pyspark (setup.py) ... \u001b[?25l\u001b[?25hdone\n",
            "  Created wheel for pyspark: filename=pyspark-3.5.1-py2.py3-none-any.whl size=317488491 sha256=a15540b1951c984dcf0b9738725b7d98f88c4cea3c0f507dd28e87e433fa0964\n",
            "  Stored in directory: /root/.cache/pip/wheels/80/1d/60/2c256ed38dddce2fdd93be545214a63e02fbd8d74fb0b7f3a6\n",
            "Successfully built pyspark\n",
            "Installing collected packages: pyspark\n",
            "Successfully installed pyspark-3.5.1\n"
          ]
        }
      ]
    },
    {
      "cell_type": "code",
      "execution_count": 11,
      "metadata": {
        "id": "J5xH_P8ekW-M"
      },
      "outputs": [],
      "source": [
        "import pyspark\n",
        "from pyspark.sql import SparkSession\n",
        "from pyspark.sql.functions import col, regexp_replace\n",
        "import argparse"
      ]
    },
    {
      "cell_type": "code",
      "source": [
        "# Create SparkSession from builder\n",
        "spark = SparkSession.builder.master(\"local\") \\\n",
        "                    .appName('project-pipeline') \\\n",
        "                    .getOrCreate()"
      ],
      "metadata": {
        "id": "aMkJlPPEl4lR"
      },
      "execution_count": 5,
      "outputs": []
    },
    {
      "cell_type": "code",
      "source": [
        "df = spark.read.json('/content/sample_data/GoosecreekCandles_scrapped_goosescrape_2024-04-20_04-21-56.json')"
      ],
      "metadata": {
        "id": "XYjJmoo-mq8f"
      },
      "execution_count": 45,
      "outputs": []
    },
    {
      "cell_type": "code",
      "source": [
        "# Filter out corrupt records\n",
        "clean_df = df.drop(col(\"_corrupt_record\"))\n",
        "\n",
        "# Remove dollar sign and cast to double\n",
        "clean_df = clean_df.withColumn(\"price_earlier\", regexp_replace(col(\"price_earlier\"), \"\\\\$\", \"\").cast(\"double\")) \\\n",
        "       .withColumn(\"price_now\", regexp_replace(col(\"price_now\"), \"\\\\$\", \"\").cast(\"double\"))\n",
        "\n",
        "#Drop NA\n",
        "clean_df = clean_df.dropna()\n"
      ],
      "metadata": {
        "id": "ALUyPIr3b0ZO"
      },
      "execution_count": 46,
      "outputs": []
    },
    {
      "cell_type": "code",
      "source": [
        "# Casting relevant columns to numeric types\n",
        "clean_df = clean_df.withColumn(\"numReviews\", col(\"numReviews\").cast(\"integer\")) \\\n",
        "       .withColumn(\"rating\", col(\"rating\").cast(\"double\")) \\\n",
        "       .withColumn(\"Scrapped_On\", col(\"Scrapped_On\").cast(\"date\")) \\\n",
        "       .withColumn(\"1_star_Rating\", col(\"1_star_Rating\").cast(\"integer\")) \\\n",
        "       .withColumn(\"2_star_Rating\", col(\"2_star_Rating\").cast(\"integer\")) \\\n",
        "       .withColumn(\"3_star_Rating\", col(\"3_star_Rating\").cast(\"integer\")) \\\n",
        "       .withColumn(\"4_star_Rating\", col(\"4_star_Rating\").cast(\"integer\")) \\\n",
        "       .withColumn(\"5_star_Rating\", col(\"5_star_Rating\").cast(\"integer\"))\n",
        "\n",
        "# Show the updated schema\n",
        "clean_df.printSchema()"
      ],
      "metadata": {
        "colab": {
          "base_uri": "https://localhost:8080/"
        },
        "id": "5JjljyGg58YM",
        "outputId": "63daa2e6-2c76-47f9-cf94-8fd12e0c127e"
      },
      "execution_count": 47,
      "outputs": [
        {
          "output_type": "stream",
          "name": "stdout",
          "text": [
            "root\n",
            " |-- 1_star_Rating: integer (nullable = true)\n",
            " |-- 2_star_Rating: integer (nullable = true)\n",
            " |-- 3_star_Rating: integer (nullable = true)\n",
            " |-- 4_star_Rating: integer (nullable = true)\n",
            " |-- 5_star_Rating: integer (nullable = true)\n",
            " |-- Details: string (nullable = true)\n",
            " |-- Product Main Category: string (nullable = true)\n",
            " |-- Product Sub-Category: string (nullable = true)\n",
            " |-- Scrapped_On: date (nullable = true)\n",
            " |-- numReviews: integer (nullable = true)\n",
            " |-- price_earlier: double (nullable = true)\n",
            " |-- price_now: double (nullable = true)\n",
            " |-- rating: double (nullable = true)\n",
            " |-- title: string (nullable = true)\n",
            "\n"
          ]
        }
      ]
    },
    {
      "cell_type": "code",
      "source": [
        "# Calculate discount percentage\n",
        "clean_df = clean_df.withColumn(\"discount_percentage\",\n",
        "                               ((col(\"price_earlier\") - col(\"price_now\")) / col(\"price_earlier\")) * 100)"
      ],
      "metadata": {
        "id": "iEHodYsX7KbY"
      },
      "execution_count": 48,
      "outputs": []
    },
    {
      "cell_type": "code",
      "source": [
        "# Example: Average price_now by Product Main Category\n",
        "avg_price_by_category = clean_df.groupBy(\"Product Sub-Category\").avg(\"price_now\")\n",
        "avg_price_by_category.show()"
      ],
      "metadata": {
        "colab": {
          "base_uri": "https://localhost:8080/"
        },
        "id": "DZH6hXRi_yYH",
        "outputId": "dbf1c4c1-c149-4a63-c967-bab24c17d945"
      },
      "execution_count": 49,
      "outputs": [
        {
          "output_type": "stream",
          "name": "stdout",
          "text": [
            "+--------------------+------------------+\n",
            "|Product Sub-Category|    avg(price_now)|\n",
            "+--------------------+------------------+\n",
            "|                Cozy|13.989999999999998|\n",
            "|Signature Collection|             13.99|\n",
            "|              Floral|13.990000000000004|\n",
            "|Scented Plug-ins ...|4.9483333333333315|\n",
            "|All Body Care Pro...| 5.490000000000001|\n",
            "|Fresh & Clean Fra...|13.990000000000004|\n",
            "|           Wax Melts|               4.0|\n",
            "|      3 Wick Candles|13.990000000000004|\n",
            "|                Sale| 5.989999999999999|\n",
            "|         Room Sprays|3.9899999999999998|\n",
            "| Single Wick Candles| 7.590000000000004|\n",
            "|     Candles for Men|11.445454545454545|\n",
            "|Orange Blossom Fr...|             13.99|\n",
            "|              Fruity|13.990000000000006|\n",
            "|Vanilla Bean Frag...| 7.241666666666667|\n",
            "|         All Candles|12.657379032257994|\n",
            "|Little Debbie® x ...|             13.99|\n",
            "|Aromatherapy Candles|             9.392|\n",
            "|      Spring Candles|12.101111111111118|\n",
            "|               Woody|13.989999999999998|\n",
            "+--------------------+------------------+\n",
            "only showing top 20 rows\n",
            "\n"
          ]
        }
      ]
    },
    {
      "cell_type": "code",
      "source": [
        "# Show some rows from the clean DataFrame\n",
        "clean_df.show(20)"
      ],
      "metadata": {
        "colab": {
          "base_uri": "https://localhost:8080/"
        },
        "id": "IfYZyJg2bNMP",
        "outputId": "2f158bd3-d0d1-434a-d5a2-d24e41dd8068"
      },
      "execution_count": 50,
      "outputs": [
        {
          "output_type": "stream",
          "name": "stdout",
          "text": [
            "+-------------+-------------+-------------+-------------+-------------+--------------------+---------------------+--------------------+-----------+----------+-------------+---------+------+--------------------+-------------------+\n",
            "|1_star_Rating|2_star_Rating|3_star_Rating|4_star_Rating|5_star_Rating|             Details|Product Main Category|Product Sub-Category|Scrapped_On|numReviews|price_earlier|price_now|rating|               title|discount_percentage|\n",
            "+-------------+-------------+-------------+-------------+-------------+--------------------+---------------------+--------------------+-----------+----------+-------------+---------+------+--------------------+-------------------+\n",
            "|            2|            0|            5|           25|          492|Sicilian Lemon, M...| Candles & Home Fr...|World Traveler Ca...| 2024-04-20|       524|         25.5|    13.99|   4.9|Limoncello Large ...|  45.13725490196078|\n",
            "|            0|            0|            2|           10|          100|Mahogany, Teakwoo...| Candles & Home Fr...|               Woody| 2024-04-20|       112|         25.5|    13.99|   4.9|Teakwood Large 3-...|  45.13725490196078|\n",
            "|            0|            2|           14|           49|          736|Mahogany, Teakwoo...| Candles & Home Fr...|               Woody| 2024-04-20|       801|         25.5|    13.99|   4.9|Teakwood Large 3-...|  45.13725490196078|\n",
            "|            1|            2|           13|           51|          701|White Teakwood, O...| Candles & Home Fr...|               Woody| 2024-04-20|       768|         25.5|    13.99|   4.9|Suit & Tie Large ...|  45.13725490196078|\n",
            "|            0|            1|            1|            7|          160|Strawberry Cake, ...| Candles & Home Fr...|        New Arrivals| 2024-04-20|       169|         25.5|    13.99|   4.9|Strawberry Sponge...|  45.13725490196078|\n",
            "|            1|            1|            3|            6|          118|Woodland Patchoul...|              candles|        New Arrivals| 2024-04-20|       129|         25.5|    13.99|   4.9|Patchouli Leaves ...|  45.13725490196078|\n",
            "|           12|            6|           32|           27|          371|Leafy Greens, Fre...| Candles & Home Fr...|Orange Blossom Fr...| 2024-04-20|       448|         25.5|    13.99|   4.6|Orange Blossom La...|  45.13725490196078|\n",
            "|            0|            0|            2|            3|           55|Warm Butter Cooki...| Candles & Home Fr...|        New Arrivals| 2024-04-20|        60|         25.5|    13.99|   4.9|Butter Cookie Lar...|  45.13725490196078|\n",
            "|            0|            0|            2|            6|           75|Cinnamon Sugar, W...| Candles & Home Fr...|        New Arrivals| 2024-04-20|        83|         25.5|    13.99|   4.9|Warm Donut Sugar ...|  45.13725490196078|\n",
            "|            0|            0|            0|            2|           26|Sea Spray, Sea Sa...|              candles|        New Arrivals| 2024-04-20|        28|         25.5|    13.99|   4.9|Emerald Sea Glass...|  45.13725490196078|\n",
            "|            2|            1|           11|           30|          282|Marine Water, Ced...| Candles & Home Fr...|  All 3-Wick Candles| 2024-04-20|       326|         25.5|    13.99|   4.8|Plaid Button-up L...|  45.13725490196078|\n",
            "|            0|            2|            6|           17|          226|Vanilla Cake Batt...| Candles & Home Fr...|         All Candles| 2024-04-20|       251|         15.5|     5.99|   4.9|Espresso Cake Pop...| 61.354838709677416|\n",
            "|            2|            4|           19|           44|          653|Vanilla Cake Batt...| Candles & Home Fr...|         All Candles| 2024-04-20|       722|         25.5|    13.99|   4.9|Espresso Cake Pop...|  45.13725490196078|\n",
            "|            2|            3|           12|           30|          408|Citrus Leaves, Ba...| Candles & Home Fr...|         All Candles| 2024-04-20|       455|         25.5|    13.99|   4.8|Citrus & Basil Ar...|  45.13725490196078|\n",
            "|            0|            2|            3|           17|          222|Fresh Eucalyptus,...| Candles & Home Fr...|         All Candles| 2024-04-20|       244|         15.5|     5.99|   4.9|Eucalyptus & Mint...| 61.354838709677416|\n",
            "|            0|            0|            3|            6|          125|Saltwater, Ocean ...| Candles & Home Fr...|         All Candles| 2024-04-20|       134|         25.5|    13.99|   4.9|Cliffside Sea Spr...|  45.13725490196078|\n",
            "|            0|            0|           10|           11|          188|Saltwater, Ocean ...| Candles & Home Fr...|         All Candles| 2024-04-20|       209|         25.5|    13.99|   4.9|Cliffside Sea Spr...|  45.13725490196078|\n",
            "|            1|            2|            6|           24|          359|Warm Vanilla Cake...| Candles & Home Fr...|         All Candles| 2024-04-20|       392|         25.5|    13.99|   4.9|Zebra Cakes Littl...|  45.13725490196078|\n",
            "|            0|            0|            3|           11|          137|Willow Trees, Swe...| Candles & Home Fr...|         All Candles| 2024-04-20|       151|         25.5|    13.99|   4.9|Willow Tree Lane ...|  45.13725490196078|\n",
            "|            4|            2|           11|           19|          296|Pink Bubble Gum, ...| Candles & Home Fr...|  All 3-Wick Candles| 2024-04-20|       332|         25.5|    13.99|   4.8|Pink Bubble Gum L...|  45.13725490196078|\n",
            "+-------------+-------------+-------------+-------------+-------------+--------------------+---------------------+--------------------+-----------+----------+-------------+---------+------+--------------------+-------------------+\n",
            "only showing top 20 rows\n",
            "\n"
          ]
        }
      ]
    },
    {
      "cell_type": "code",
      "source": [
        "# Define the desired column order\n",
        "desired_column_order = [\n",
        "    \"Product Main Category\",\n",
        "    \"Product Sub-Category\",\n",
        "    \"Scrapped_On\",\n",
        "    \"title\",\n",
        "    \"price_earlier\",\n",
        "    \"price_now\",\n",
        "    \"discount_percentage\",\n",
        "    \"rating\",\n",
        "    \"numReviews\",\n",
        "    \"1_star_Rating\",\n",
        "    \"2_star_Rating\",\n",
        "    \"3_star_Rating\",\n",
        "    \"4_star_Rating\",\n",
        "    \"5_star_Rating\",\n",
        "    \"Details\"\n",
        "    ]\n",
        "\n",
        "# Select columns in the desired order\n",
        "ordered_df = clean_df.select(desired_column_order)\n",
        "\n",
        "ordered_df.show(20)"
      ],
      "metadata": {
        "colab": {
          "base_uri": "https://localhost:8080/"
        },
        "id": "II7JDlJE6ukH",
        "outputId": "27a4f06f-3466-40a8-b6e2-a9da51deb0e6"
      },
      "execution_count": 51,
      "outputs": [
        {
          "output_type": "stream",
          "name": "stdout",
          "text": [
            "+---------------------+--------------------+-----------+--------------------+-------------+---------+-------------------+------+----------+-------------+-------------+-------------+-------------+-------------+--------------------+\n",
            "|Product Main Category|Product Sub-Category|Scrapped_On|               title|price_earlier|price_now|discount_percentage|rating|numReviews|1_star_Rating|2_star_Rating|3_star_Rating|4_star_Rating|5_star_Rating|             Details|\n",
            "+---------------------+--------------------+-----------+--------------------+-------------+---------+-------------------+------+----------+-------------+-------------+-------------+-------------+-------------+--------------------+\n",
            "| Candles & Home Fr...|World Traveler Ca...| 2024-04-20|Limoncello Large ...|         25.5|    13.99|  45.13725490196078|   4.9|       524|            2|            0|            5|           25|          492|Sicilian Lemon, M...|\n",
            "| Candles & Home Fr...|               Woody| 2024-04-20|Teakwood Large 3-...|         25.5|    13.99|  45.13725490196078|   4.9|       112|            0|            0|            2|           10|          100|Mahogany, Teakwoo...|\n",
            "| Candles & Home Fr...|               Woody| 2024-04-20|Teakwood Large 3-...|         25.5|    13.99|  45.13725490196078|   4.9|       801|            0|            2|           14|           49|          736|Mahogany, Teakwoo...|\n",
            "| Candles & Home Fr...|               Woody| 2024-04-20|Suit & Tie Large ...|         25.5|    13.99|  45.13725490196078|   4.9|       768|            1|            2|           13|           51|          701|White Teakwood, O...|\n",
            "| Candles & Home Fr...|        New Arrivals| 2024-04-20|Strawberry Sponge...|         25.5|    13.99|  45.13725490196078|   4.9|       169|            0|            1|            1|            7|          160|Strawberry Cake, ...|\n",
            "|              candles|        New Arrivals| 2024-04-20|Patchouli Leaves ...|         25.5|    13.99|  45.13725490196078|   4.9|       129|            1|            1|            3|            6|          118|Woodland Patchoul...|\n",
            "| Candles & Home Fr...|Orange Blossom Fr...| 2024-04-20|Orange Blossom La...|         25.5|    13.99|  45.13725490196078|   4.6|       448|           12|            6|           32|           27|          371|Leafy Greens, Fre...|\n",
            "| Candles & Home Fr...|        New Arrivals| 2024-04-20|Butter Cookie Lar...|         25.5|    13.99|  45.13725490196078|   4.9|        60|            0|            0|            2|            3|           55|Warm Butter Cooki...|\n",
            "| Candles & Home Fr...|        New Arrivals| 2024-04-20|Warm Donut Sugar ...|         25.5|    13.99|  45.13725490196078|   4.9|        83|            0|            0|            2|            6|           75|Cinnamon Sugar, W...|\n",
            "|              candles|        New Arrivals| 2024-04-20|Emerald Sea Glass...|         25.5|    13.99|  45.13725490196078|   4.9|        28|            0|            0|            0|            2|           26|Sea Spray, Sea Sa...|\n",
            "| Candles & Home Fr...|  All 3-Wick Candles| 2024-04-20|Plaid Button-up L...|         25.5|    13.99|  45.13725490196078|   4.8|       326|            2|            1|           11|           30|          282|Marine Water, Ced...|\n",
            "| Candles & Home Fr...|         All Candles| 2024-04-20|Espresso Cake Pop...|         15.5|     5.99| 61.354838709677416|   4.9|       251|            0|            2|            6|           17|          226|Vanilla Cake Batt...|\n",
            "| Candles & Home Fr...|         All Candles| 2024-04-20|Espresso Cake Pop...|         25.5|    13.99|  45.13725490196078|   4.9|       722|            2|            4|           19|           44|          653|Vanilla Cake Batt...|\n",
            "| Candles & Home Fr...|         All Candles| 2024-04-20|Citrus & Basil Ar...|         25.5|    13.99|  45.13725490196078|   4.8|       455|            2|            3|           12|           30|          408|Citrus Leaves, Ba...|\n",
            "| Candles & Home Fr...|         All Candles| 2024-04-20|Eucalyptus & Mint...|         15.5|     5.99| 61.354838709677416|   4.9|       244|            0|            2|            3|           17|          222|Fresh Eucalyptus,...|\n",
            "| Candles & Home Fr...|         All Candles| 2024-04-20|Cliffside Sea Spr...|         25.5|    13.99|  45.13725490196078|   4.9|       134|            0|            0|            3|            6|          125|Saltwater, Ocean ...|\n",
            "| Candles & Home Fr...|         All Candles| 2024-04-20|Cliffside Sea Spr...|         25.5|    13.99|  45.13725490196078|   4.9|       209|            0|            0|           10|           11|          188|Saltwater, Ocean ...|\n",
            "| Candles & Home Fr...|         All Candles| 2024-04-20|Zebra Cakes Littl...|         25.5|    13.99|  45.13725490196078|   4.9|       392|            1|            2|            6|           24|          359|Warm Vanilla Cake...|\n",
            "| Candles & Home Fr...|         All Candles| 2024-04-20|Willow Tree Lane ...|         25.5|    13.99|  45.13725490196078|   4.9|       151|            0|            0|            3|           11|          137|Willow Trees, Swe...|\n",
            "| Candles & Home Fr...|  All 3-Wick Candles| 2024-04-20|Pink Bubble Gum L...|         25.5|    13.99|  45.13725490196078|   4.8|       332|            4|            2|           11|           19|          296|Pink Bubble Gum, ...|\n",
            "+---------------------+--------------------+-----------+--------------------+-------------+---------+-------------------+------+----------+-------------+-------------+-------------+-------------+-------------+--------------------+\n",
            "only showing top 20 rows\n",
            "\n"
          ]
        }
      ]
    },
    {
      "cell_type": "code",
      "source": [
        "ordered_df.groupBy(\"Product Sub-Category\").avg(\"discount_percentage\").show()"
      ],
      "metadata": {
        "colab": {
          "base_uri": "https://localhost:8080/"
        },
        "id": "nuc9xlfdIPlu",
        "outputId": "b716f5c4-4996-42ea-e4c2-6453637984a0"
      },
      "execution_count": 52,
      "outputs": [
        {
          "output_type": "stream",
          "name": "stdout",
          "text": [
            "+--------------------+------------------------+\n",
            "|Product Sub-Category|avg(discount_percentage)|\n",
            "+--------------------+------------------------+\n",
            "|                Cozy|       45.13725490196078|\n",
            "|Signature Collection|       45.13725490196078|\n",
            "|              Floral|       45.13725490196078|\n",
            "|Scented Plug-ins ...|      38.068418856904465|\n",
            "|All Body Care Pro...|      31.289111389236545|\n",
            "|Fresh & Clean Fra...|       45.13725490196078|\n",
            "|           Wax Melts|      20.295857988165686|\n",
            "|      3 Wick Candles|      45.137254901960716|\n",
            "|                Sale|       61.35483870967743|\n",
            "|         Room Sprays|       50.06257822277848|\n",
            "| Single Wick Candles|       51.03225806451609|\n",
            "|     Candles for Men|      41.556376066368394|\n",
            "|Orange Blossom Fr...|       45.13725490196078|\n",
            "|              Fruity|       45.13725490196082|\n",
            "|Vanilla Bean Frag...|       40.56536172007123|\n",
            "|         All Candles|       45.74231805104994|\n",
            "|Little Debbie® x ...|       45.13725490196078|\n",
            "|Aromatherapy Candles|      43.845853015193725|\n",
            "|      Spring Candles|       46.01679668283082|\n",
            "|               Woody|       45.13725490196078|\n",
            "+--------------------+------------------------+\n",
            "only showing top 20 rows\n",
            "\n"
          ]
        }
      ]
    },
    {
      "cell_type": "markdown",
      "source": [
        "#Text Transformation"
      ],
      "metadata": {
        "id": "H26BgskBHKnk"
      }
    },
    {
      "cell_type": "code",
      "source": [
        "from pyspark.sql import SparkSession\n",
        "from pyspark.sql.functions import col, regexp_replace, split, lower, avg, expr, udf\n",
        "from pyspark.sql.types import IntegerType, DoubleType\n",
        "from textblob import TextBlob"
      ],
      "metadata": {
        "id": "jfXGTwWiHNyy"
      },
      "execution_count": 53,
      "outputs": []
    },
    {
      "cell_type": "code",
      "source": [
        "# Text Processing: Clean and tokenize the Details column\n",
        "ordered_df = ordered_df.withColumn(\"cleaned_details\", lower(col(\"Details\")))\n",
        "ordered_df = ordered_df.withColumn(\"ingredients\", split(col(\"cleaned_details\"), \",\\\\s*\"))"
      ],
      "metadata": {
        "id": "76M7Dw7AHP2q"
      },
      "execution_count": 54,
      "outputs": []
    },
    {
      "cell_type": "code",
      "source": [
        "# Sentiment Analysis: Using TextBlob (requires local execution as Spark UDF)\n",
        "def get_sentiment(text):\n",
        "    return TextBlob(text).sentiment.polarity\n",
        "\n",
        "sentiment_udf = udf(get_sentiment, DoubleType())\n",
        "\n",
        "ordered_df = ordered_df.withColumn(\"details_sentiment\", sentiment_udf(col(\"Details\")))"
      ],
      "metadata": {
        "id": "FZJJYIW6HeTe"
      },
      "execution_count": 55,
      "outputs": []
    },
    {
      "cell_type": "markdown",
      "source": [],
      "metadata": {
        "id": "Xz2X5eh5aMEz"
      }
    },
    {
      "cell_type": "code",
      "source": [
        "# Save the final DataFrame to a new JSON file (if needed)\n",
        "ordered_df.write.json(\"clean_data_April_Final.json\")"
      ],
      "metadata": {
        "id": "HgbNcmNQXSWt"
      },
      "execution_count": 56,
      "outputs": []
    },
    {
      "cell_type": "code",
      "source": [
        "spark.stop()"
      ],
      "metadata": {
        "id": "jJipuPyKd5J6"
      },
      "execution_count": 57,
      "outputs": []
    }
  ]
}